{
 "cells": [
  {
   "cell_type": "code",
   "execution_count": 1,
   "metadata": {},
   "outputs": [],
   "source": [
    "import numpy as np\n",
    "import networkx as nx\n",
    "# 9.5\n",
    "def calculate_pagerank(adjacency_matrix, d=0.85, num_iterations=100):\n",
    "    n = adjacency_matrix.shape[0]\n",
    "    pagerank = np.ones(n) / n  # Initialize PageRank values uniformly\n",
    "    \n",
    "    # Handle dangling nodes\n",
    "    dangling_nodes = np.where(adjacency_matrix.sum(axis=1) == 0)[0]\n",
    "    \n",
    "    for _ in range(num_iterations):\n",
    "        new_pagerank = np.zeros(n)\n",
    "        \n",
    "        for i in range(n):\n",
    "            incoming_links = np.where(adjacency_matrix[:, i] > 0)[0]\n",
    "            for j in incoming_links:\n",
    "                # Avoid division by zero\n",
    "                out_links = adjacency_matrix[j].sum()\n",
    "                if out_links > 0:\n",
    "                    new_pagerank[i] += pagerank[j] / out_links\n",
    "            \n",
    "            # Adding the damping factor\n",
    "            new_pagerank[i] = (1 - d) + d * new_pagerank[i]\n",
    "        \n",
    "        # Handle dangling nodes by redistributing their PageRank\n",
    "        if len(dangling_nodes) > 0:\n",
    "            dangling_rank = pagerank[dangling_nodes].sum()\n",
    "            new_pagerank += dangling_rank / n\n",
    "        \n",
    "        pagerank = new_pagerank\n",
    "    \n",
    "    return pagerank\n"
   ]
  },
  {
   "cell_type": "code",
   "execution_count": 3,
   "metadata": {},
   "outputs": [
    {
     "name": "stdout",
     "output_type": "stream",
     "text": [
      "Classic PageRank values: [0.92808839 1.76509801 0.96201573 1.50271603 1.52513785 0.68184455\n",
      " 0.65932898 0.65551727 0.66473515 0.65551727]\n"
     ]
    }
   ],
   "source": [
    "num_nodes = 10  \n",
    "m = 2 \n",
    "ba_graph = nx.barabasi_albert_graph(num_nodes, m)\n",
    "\n",
    "adjacency_matrix = nx.to_numpy_array(ba_graph, dtype=np.float64)\n",
    "\n",
    "pagerank_values = calculate_pagerank(adjacency_matrix)\n",
    "print(\"Classic PageRank values:\", pagerank_values)"
   ]
  },
  {
   "cell_type": "markdown",
   "metadata": {},
   "source": [
    "# Change name in presentiontion"
   ]
  },
  {
   "cell_type": "code",
   "execution_count": null,
   "metadata": {},
   "outputs": [],
   "source": []
  }
 ],
 "metadata": {
  "kernelspec": {
   "display_name": "Python 3",
   "language": "python",
   "name": "python3"
  },
  "language_info": {
   "codemirror_mode": {
    "name": "ipython",
    "version": 3
   },
   "file_extension": ".py",
   "mimetype": "text/x-python",
   "name": "python",
   "nbconvert_exporter": "python",
   "pygments_lexer": "ipython3",
   "version": "3.12.1"
  }
 },
 "nbformat": 4,
 "nbformat_minor": 2
}
